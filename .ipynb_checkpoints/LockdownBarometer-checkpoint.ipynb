{
 "cells": [
  {
   "cell_type": "code",
   "execution_count": 47,
   "metadata": {},
   "outputs": [],
   "source": [
    "import tweepy\n",
    "import json\n",
    "import pandas as pd\n",
    "from textblob import TextBlob \n",
    "import re\n",
    "import logging\n",
    "import time\n",
    "\n",
    "logger = logging.getLogger()"
   ]
  },
  {
   "cell_type": "code",
   "execution_count": 48,
   "metadata": {},
   "outputs": [],
   "source": [
    "# Twitter API login function\n",
    "def create_api():\n",
    "\n",
    "    # login details\n",
    "    api_key = 'TsTpQDhVRkQPI9pY8VsVQgF3o'\n",
    "    api_secret = 'pR5adD28yuIa7f6f7mkBwsDMeutw2hwVoKl9aU9HtfochIDPB9'\n",
    "    access_token = '1353358231939104770-r22ZfYRh6tHX0EZvk77TUDkr2eKs5N'\n",
    "    access_token_secret = 'kPzb1hXVUfbpA5kaCbRUa0B2MersgGmZKfYvX3p2e852S'\n",
    "\n",
    "    # login\n",
    "    auth = tweepy.OAuthHandler(api_key, api_secret)\n",
    "    auth.set_access_token(access_token, access_token_secret)\n",
    "    api = tweepy.API(auth,\n",
    "                     #wait_on_rate_limit=True\n",
    "                    #waity_on_rate_limit_notify=True\n",
    "                    )\n",
    "\n",
    "    # confirm login ok\n",
    "    try:\n",
    "        api.verify_credentials()\n",
    "    except Exception as e:\n",
    "        logger.error(\"Error creating API\", exc_info=True)\n",
    "        raise e\n",
    "    logger.info(\"API created\")\n",
    "    return api"
   ]
  },
  {
   "cell_type": "code",
   "execution_count": 49,
   "metadata": {},
   "outputs": [],
   "source": [
    "\n"
   ]
  },
  {
   "cell_type": "code",
   "execution_count": 50,
   "metadata": {},
   "outputs": [],
   "source": [
    "# function to add tweets to df\n",
    "\n",
    "def add_tweets(query):\n",
    "    # get and cycle over tweets\n",
    "    for tweet in tweepy.Cursor(api.search,\n",
    "                               q=query, # get tweets with certain keyword \n",
    "                               lang = 'en', # in english only\n",
    "                               geocode=\"52.9548,1.1581,300km\", # 300km radius centered on Nottingham\n",
    "                              ).items(5):\n",
    "\n",
    "        #add each tweet to the df\n",
    "        data = [tweet.user.name, tweet.created_at, tweet.text]\n",
    "        df.loc[len(df)] = data\n",
    "    \n",
    "    return (df)"
   ]
  },
  {
   "cell_type": "code",
   "execution_count": 51,
   "metadata": {},
   "outputs": [],
   "source": [
    "# function to clean tweets\n",
    "def clean_tweet(tweet): \n",
    "        ''' \n",
    "        Utility function to clean tweet text by removing links, special characters \n",
    "        using simple regex statements. \n",
    "        '''\n",
    "        return ' '.join(re.sub(\"(@[A-Za-z0-9]+)|([^0-9A-Za-z \\t])|(\\w+:\\/\\/\\S+)\",\n",
    "                            \" \", tweet).split())\n",
    "    \n",
    "def get_tweet_sentiment(tweet): \n",
    "        ''' \n",
    "        Utility function to classify sentiment of passed tweet \n",
    "        using textblob's sentiment method \n",
    "        '''\n",
    "        # create TextBlob object of passed tweet text \n",
    "        analysis = TextBlob(tweet) \n",
    "        \n",
    "        # set sentiment \n",
    "        #if analysis.sentiment.polarity > 0: \n",
    "        #    return 'positive'\n",
    "        #elif analysis.sentiment.polarity == 0: \n",
    "        #    return 'neutral'\n",
    "        #else: \n",
    "        #    return 'negative'\n",
    "        \n",
    "        #note: 0 is neutral, >0 is positive, <0 is negative\n",
    "        return analysis.sentiment.polarity"
   ]
  },
  {
   "cell_type": "code",
   "execution_count": null,
   "metadata": {},
   "outputs": [],
   "source": [
    "def main():\n",
    "    api = create_api()\n",
    "    query = 'Lockdown'\n",
    "    delay_secs = 60*15  #wait 15 minutes between queries\n",
    "    \n",
    "    #blank df to populate\n",
    "    df = pd.DataFrame(columns = ['User','Date','Tweet'])\n",
    "    \n",
    "    while True:\n",
    "        add_tweets(query)\n",
    "        logger.info(\"Waiting...\")\n",
    "        time.sleep(delay_secs)\n",
    "\n",
    "if __name__ == \"__main__\":\n",
    "    main()"
   ]
  },
  {
   "cell_type": "code",
   "execution_count": null,
   "metadata": {},
   "outputs": [],
   "source": []
  },
  {
   "cell_type": "code",
   "execution_count": 52,
   "metadata": {},
   "outputs": [
    {
     "name": "stdout",
     "output_type": "stream",
     "text": [
      "(5, 3)\n",
      "(10, 3)\n",
      "(15, 3)\n",
      "(20, 3)\n",
      "(25, 3)\n",
      "(30, 3)\n",
      "(35, 3)\n",
      "(40, 3)\n"
     ]
    },
    {
     "ename": "KeyboardInterrupt",
     "evalue": "",
     "output_type": "error",
     "traceback": [
      "\u001b[1;31m---------------------------------------------------------------------------\u001b[0m",
      "\u001b[1;31mKeyboardInterrupt\u001b[0m                         Traceback (most recent call last)",
      "\u001b[1;32m<ipython-input-52-8003f858cb3d>\u001b[0m in \u001b[0;36m<module>\u001b[1;34m\u001b[0m\n\u001b[0;32m      9\u001b[0m \u001b[1;33m\u001b[0m\u001b[0m\n\u001b[0;32m     10\u001b[0m \u001b[1;32mif\u001b[0m \u001b[0m__name__\u001b[0m \u001b[1;33m==\u001b[0m \u001b[1;34m\"__main__\"\u001b[0m\u001b[1;33m:\u001b[0m\u001b[1;33m\u001b[0m\u001b[1;33m\u001b[0m\u001b[0m\n\u001b[1;32m---> 11\u001b[1;33m     \u001b[0mmain\u001b[0m\u001b[1;33m(\u001b[0m\u001b[1;33m)\u001b[0m\u001b[1;33m\u001b[0m\u001b[1;33m\u001b[0m\u001b[0m\n\u001b[0m",
      "\u001b[1;32m<ipython-input-52-8003f858cb3d>\u001b[0m in \u001b[0;36mmain\u001b[1;34m()\u001b[0m\n\u001b[0;32m      5\u001b[0m         \u001b[0madd_tweets\u001b[0m\u001b[1;33m(\u001b[0m\u001b[0mquery\u001b[0m\u001b[1;33m)\u001b[0m\u001b[1;33m\u001b[0m\u001b[1;33m\u001b[0m\u001b[0m\n\u001b[0;32m      6\u001b[0m         \u001b[0mlogger\u001b[0m\u001b[1;33m.\u001b[0m\u001b[0minfo\u001b[0m\u001b[1;33m(\u001b[0m\u001b[1;34m\"Waiting...\"\u001b[0m\u001b[1;33m)\u001b[0m\u001b[1;33m\u001b[0m\u001b[1;33m\u001b[0m\u001b[0m\n\u001b[1;32m----> 7\u001b[1;33m         \u001b[0mtime\u001b[0m\u001b[1;33m.\u001b[0m\u001b[0msleep\u001b[0m\u001b[1;33m(\u001b[0m\u001b[1;36m5\u001b[0m\u001b[1;33m)\u001b[0m\u001b[1;33m\u001b[0m\u001b[1;33m\u001b[0m\u001b[0m\n\u001b[0m\u001b[0;32m      8\u001b[0m         \u001b[0mprint\u001b[0m\u001b[1;33m(\u001b[0m\u001b[0mdf\u001b[0m\u001b[1;33m.\u001b[0m\u001b[0mshape\u001b[0m\u001b[1;33m)\u001b[0m\u001b[1;33m\u001b[0m\u001b[1;33m\u001b[0m\u001b[0m\n\u001b[0;32m      9\u001b[0m \u001b[1;33m\u001b[0m\u001b[0m\n",
      "\u001b[1;31mKeyboardInterrupt\u001b[0m: "
     ]
    }
   ],
   "source": []
  },
  {
   "cell_type": "code",
   "execution_count": null,
   "metadata": {},
   "outputs": [],
   "source": []
  },
  {
   "cell_type": "code",
   "execution_count": null,
   "metadata": {},
   "outputs": [],
   "source": [
    "# add column with cleaned tweets\n",
    "df['TweetClean'] = df['Tweet'].apply(clean_tweet)\n",
    "\n",
    "# add column with sentiment\n",
    "df['Sentiment'] = df['TweetClean'].apply(get_tweet_sentiment)"
   ]
  },
  {
   "cell_type": "code",
   "execution_count": null,
   "metadata": {},
   "outputs": [],
   "source": [
    "print(df.head())\n",
    "df.plot(y='Sentiment', x='Date', kind = 'scatter')"
   ]
  },
  {
   "cell_type": "code",
   "execution_count": null,
   "metadata": {},
   "outputs": [],
   "source": []
  },
  {
   "cell_type": "code",
   "execution_count": null,
   "metadata": {},
   "outputs": [],
   "source": []
  }
 ],
 "metadata": {
  "kernelspec": {
   "display_name": "Python 3",
   "language": "python",
   "name": "python3"
  },
  "language_info": {
   "codemirror_mode": {
    "name": "ipython",
    "version": 3
   },
   "file_extension": ".py",
   "mimetype": "text/x-python",
   "name": "python",
   "nbconvert_exporter": "python",
   "pygments_lexer": "ipython3",
   "version": "3.8.5"
  }
 },
 "nbformat": 4,
 "nbformat_minor": 4
}
