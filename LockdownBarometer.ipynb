{
 "cells": [
  {
   "cell_type": "code",
   "execution_count": 47,
   "metadata": {},
   "outputs": [],
   "source": [
    "import tweepy\n",
    "import json\n",
    "import pandas as pd\n",
    "from textblob import TextBlob \n",
    "import re\n",
    "import logging\n",
    "import time\n",
    "\n",
    "logger = logging.getLogger()"
   ]
  },
  {
   "cell_type": "code",
   "execution_count": 48,
   "metadata": {},
   "outputs": [],
   "source": [
    "# Twitter API login function\n",
    "def create_api():\n",
    "\n",
    "    # login details\n",
    "    api_key = 'TsTpQDhVRkQPI9pY8VsVQgF3o'\n",
    "    api_secret = 'pR5adD28yuIa7f6f7mkBwsDMeutw2hwVoKl9aU9HtfochIDPB9'\n",
    "    access_token = '1353358231939104770-r22ZfYRh6tHX0EZvk77TUDkr2eKs5N'\n",
    "    access_token_secret = 'kPzb1hXVUfbpA5kaCbRUa0B2MersgGmZKfYvX3p2e852S'\n",
    "\n",
    "    # login\n",
    "    auth = tweepy.OAuthHandler(api_key, api_secret)\n",
    "    auth.set_access_token(access_token, access_token_secret)\n",
    "    api = tweepy.API(auth,\n",
    "                     #wait_on_rate_limit=True\n",
    "                    #waity_on_rate_limit_notify=True\n",
    "                    )\n",
    "\n",
    "    # confirm login ok\n",
    "    try:\n",
    "        api.verify_credentials()\n",
    "    except Exception as e:\n",
    "        logger.error(\"Error creating API\", exc_info=True)\n",
    "        raise e\n",
    "    logger.info(\"API created\")\n",
    "    return api"
   ]
  },
  {
   "cell_type": "code",
   "execution_count": 50,
   "metadata": {},
   "outputs": [],
   "source": [
    "# function to add tweets to df\n",
    "\n",
    "def add_tweets(query):\n",
    "    # get and cycle over tweets\n",
    "    for tweet in tweepy.Cursor(api.search,\n",
    "                               q=query, # get tweets with certain keyword \n",
    "                               lang = 'en', # in english only\n",
    "                               geocode=\"52.9548,1.1581,300km\", # 300km radius centered on Nottingham\n",
    "                              ).items(5):\n",
    "\n",
    "        #add each tweet to the df\n",
    "        data = [tweet.user.name, tweet.created_at, tweet.text]\n",
    "        df.loc[len(df)] = data\n",
    "    \n",
    "    return (df)"
   ]
  },
  {
   "cell_type": "code",
   "execution_count": 51,
   "metadata": {},
   "outputs": [],
   "source": [
    "# function to clean tweets\n",
    "def clean_tweet(tweet): \n",
    "        ''' \n",
    "        Utility function to clean tweet text by removing links, special characters \n",
    "        using simple regex statements. \n",
    "        '''\n",
    "        return ' '.join(re.sub(\"(@[A-Za-z0-9]+)|([^0-9A-Za-z \\t])|(\\w+:\\/\\/\\S+)\",\n",
    "                            \" \", tweet).split())\n",
    "    \n",
    "def get_tweet_sentiment(tweet): \n",
    "        ''' \n",
    "        Utility function to classify sentiment of passed tweet \n",
    "        using textblob's sentiment method \n",
    "        '''\n",
    "        # create TextBlob object of passed tweet text \n",
    "        analysis = TextBlob(tweet) \n",
    "        \n",
    "        # set sentiment \n",
    "        #if analysis.sentiment.polarity > 0: \n",
    "        #    return 'positive'\n",
    "        #elif analysis.sentiment.polarity == 0: \n",
    "        #    return 'neutral'\n",
    "        #else: \n",
    "        #    return 'negative'\n",
    "        \n",
    "        #note: 0 is neutral, >0 is positive, <0 is negative\n",
    "        return analysis.sentiment.polarity"
   ]
  },
  {
   "cell_type": "code",
   "execution_count": null,
   "metadata": {},
   "outputs": [],
   "source": [
    "def main():\n",
    "    api = create_api()\n",
    "    query = 'Lockdown'\n",
    "    delay_secs = 60*15  #wait 15 minutes between queries\n",
    "    \n",
    "    #blank df to populate\n",
    "    df = pd.DataFrame(columns = ['User','Date','Tweet'])\n",
    "    \n",
    "    while True:\n",
    "        add_tweets(query)\n",
    "        logger.info(\"Waiting...\")\n",
    "        time.sleep(delay_secs)\n",
    "\n",
    "if __name__ == \"__main__\":\n",
    "    main()"
   ]
  },
  {
   "cell_type": "code",
   "execution_count": null,
   "metadata": {},
   "outputs": [],
   "source": []
  },
  {
   "cell_type": "code",
   "execution_count": null,
   "metadata": {},
   "outputs": [],
   "source": []
  },
  {
   "cell_type": "code",
   "execution_count": null,
   "metadata": {},
   "outputs": [],
   "source": []
  },
  {
   "cell_type": "code",
   "execution_count": null,
   "metadata": {},
   "outputs": [],
   "source": [
    "# add column with cleaned tweets\n",
    "df['TweetClean'] = df['Tweet'].apply(clean_tweet)\n",
    "\n",
    "# add column with sentiment\n",
    "df['Sentiment'] = df['TweetClean'].apply(get_tweet_sentiment)"
   ]
  },
  {
   "cell_type": "code",
   "execution_count": null,
   "metadata": {},
   "outputs": [],
   "source": [
    "print(df.head())\n",
    "df.plot(y='Sentiment', x='Date', kind = 'scatter')"
   ]
  },
  {
   "cell_type": "code",
   "execution_count": null,
   "metadata": {},
   "outputs": [],
   "source": []
  },
  {
   "cell_type": "code",
   "execution_count": 58,
   "metadata": {},
   "outputs": [
    {
     "ename": "AttributeError",
     "evalue": "'Dash' object has no attribute 'run'",
     "output_type": "error",
     "traceback": [
      "\u001b[1;31m---------------------------------------------------------------------------\u001b[0m",
      "\u001b[1;31mAttributeError\u001b[0m                            Traceback (most recent call last)",
      "\u001b[1;32m<ipython-input-58-73b8b08d4ef8>\u001b[0m in \u001b[0;36m<module>\u001b[1;34m\u001b[0m\n\u001b[0;32m     30\u001b[0m ])\n\u001b[0;32m     31\u001b[0m \u001b[1;31m########### Run the app\u001b[0m\u001b[1;33m\u001b[0m\u001b[1;33m\u001b[0m\u001b[1;33m\u001b[0m\u001b[0m\n\u001b[1;32m---> 32\u001b[1;33m \u001b[0mapp\u001b[0m\u001b[1;33m.\u001b[0m\u001b[0mrun\u001b[0m\u001b[1;33m(\u001b[0m\u001b[0mdebug\u001b[0m\u001b[1;33m=\u001b[0m\u001b[1;32mTrue\u001b[0m\u001b[1;33m)\u001b[0m\u001b[1;33m\u001b[0m\u001b[1;33m\u001b[0m\u001b[0m\n\u001b[0m",
      "\u001b[1;31mAttributeError\u001b[0m: 'Dash' object has no attribute 'run'"
     ]
    }
   ],
   "source": [
    "import dash\n",
    "import dash_core_components as dcc\n",
    "import dash_html_components as html\n",
    "########### Initiate the app\n",
    "external_stylesheets = ['https://codepen.io/chriddyp/pen/bWLwgP.css']\n",
    "app = dash.Dash(__name__, external_stylesheets=external_stylesheets)\n",
    "application = app.server\n",
    "app.title='Dash on AWS EB!'\n",
    "########### Set up the layout\n",
    "app.layout = html.Div(children=[\n",
    "    html.H1(children='Hello Dash'),\n",
    "    html.Div(children='''\n",
    "            This is Dash running on Elastic Beanstalk.\n",
    "        '''),\n",
    "    dcc.Graph(\n",
    "            id='example-graph',\n",
    "            figure={\n",
    "                'data': [\n",
    "                    {'x': ['left', 'center', 'right'], 'y': [3,7,6], 'type': 'bar', 'name': 'category 1'},\n",
    "                    {'x': ['left', 'center', 'right'], 'y': [4,2,5], 'type': 'bar', 'name': 'category 2'},\n",
    "                ],\n",
    "                'layout': {\n",
    "                    'plot_bgcolor': 'lightgray',\n",
    "                    'title': 'Graph Title',\n",
    "                    'xaxis':{'title':'x-axis label'},\n",
    "                    'yaxis':{'title':'y-axis label'},\n",
    "                },\n",
    "            }\n",
    "        )\n",
    "])\n",
    "########### Run the app\n",
    "app.run(debug=True)"
   ]
  },
  {
   "cell_type": "code",
   "execution_count": 60,
   "metadata": {},
   "outputs": [
    {
     "name": "stdout",
     "output_type": "stream",
     "text": [
      " * Serving Flask app \"__main__\" (lazy loading)\n",
      " * Environment: production\n",
      "   WARNING: This is a development server. Do not use it in a production deployment.\n",
      "   Use a production WSGI server instead.\n",
      " * Debug mode: on\n"
     ]
    },
    {
     "name": "stderr",
     "output_type": "stream",
     "text": [
      "INFO:werkzeug: * Restarting with windowsapi reloader\n"
     ]
    },
    {
     "ename": "SystemExit",
     "evalue": "1",
     "output_type": "error",
     "traceback": [
      "An exception has occurred, use %tb to see the full traceback.\n",
      "\u001b[1;31mSystemExit\u001b[0m\u001b[1;31m:\u001b[0m 1\n"
     ]
    }
   ],
   "source": [
    "import dash\n",
    "import dash_core_components as dcc\n",
    "import dash_html_components as html\n",
    "from dash.dependencies import Input, Output\n",
    "import plotly.express as px\n",
    "\n",
    "df = px.data.gapminder()\n",
    "all_continents = df.continent.unique()\n",
    "\n",
    "app = dash.Dash(__name__)\n",
    "\n",
    "app.layout = html.Div([\n",
    "    dcc.Checklist(\n",
    "        id=\"checklist\",\n",
    "        options=[{\"label\": x, \"value\": x} \n",
    "                 for x in all_continents],\n",
    "        value=all_continents[3:],\n",
    "        labelStyle={'display': 'inline-block'}\n",
    "    ),\n",
    "    dcc.Graph(id=\"line-chart\"),\n",
    "])\n",
    "\n",
    "@app.callback(\n",
    "    Output(\"line-chart\", \"figure\"), \n",
    "    [Input(\"checklist\", \"value\")])\n",
    "def update_line_chart(continents):\n",
    "    mask = df.continent.isin(continents)\n",
    "    fig = px.line(df[mask], \n",
    "        x=\"year\", y=\"lifeExp\", color='country')\n",
    "    return fig\n",
    "\n",
    "if __name__ == '__main__':\n",
    "    application.run(debug=True, port=8080)"
   ]
  },
  {
   "cell_type": "code",
   "execution_count": null,
   "metadata": {},
   "outputs": [],
   "source": []
  }
 ],
 "metadata": {
  "kernelspec": {
   "display_name": "Python 3",
   "language": "python",
   "name": "python3"
  },
  "language_info": {
   "codemirror_mode": {
    "name": "ipython",
    "version": 3
   },
   "file_extension": ".py",
   "mimetype": "text/x-python",
   "name": "python",
   "nbconvert_exporter": "python",
   "pygments_lexer": "ipython3",
   "version": "3.8.5"
  }
 },
 "nbformat": 4,
 "nbformat_minor": 4
}
